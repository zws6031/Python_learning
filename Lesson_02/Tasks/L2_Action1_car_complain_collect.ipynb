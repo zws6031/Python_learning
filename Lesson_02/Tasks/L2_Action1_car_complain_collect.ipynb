{
 "cells": [
  {
   "cell_type": "code",
   "execution_count": 4,
   "metadata": {},
   "outputs": [
    {
     "name": "stderr",
     "output_type": "stream",
     "text": [
      "D:\\Users\\zhangwensheng\\Anaconda3\\lib\\site-packages\\bs4\\__init__.py:203: UserWarning: You provided Unicode markup but also provided a value for from_encoding. Your from_encoding will be ignored.\n",
      "  warnings.warn(\"You provided Unicode markup but also provided a value for from_encoding. Your from_encoding will be ignored.\")\n"
     ]
    },
    {
     "name": "stdout",
     "output_type": "stream",
     "text": [
      "        id    brand car_model                              type  \\\n",
      "0   576673     吉利汽车        嘉际                2019款 1.8TD 自动 悦享型   \n",
      "1   576672  上汽大众斯柯达        速派           2018款 TSI280 DSG 舒适版 国V   \n",
      "2   576671     吉利汽车        缤越          2019款 260T DCT 游侠 运动款 国V   \n",
      "3   576669    一汽-大众        迈腾          2012款 2.0TSI DSG 尊贵型（改款）   \n",
      "4   576663   东风悦达起亚        智跑               2018款 2.0L 自动 智享豪华版   \n",
      "..     ...      ...       ...                               ...   \n",
      "25  575335       星途     星途TXL                 2021款 1.6T 两驱 星耀版   \n",
      "26  575334     长安福特        锐界      2020款 EcoBoost 245 两驱 豪锐型 7座   \n",
      "27  575327     广汽丰田        雷凌  2017款 1.8H GS CVT 精英天窗版 国V 改款 双擎   \n",
      "28  575325     东风日产        逍客                2016款 2.0L CVT 精英版   \n",
      "29  575323  一汽-大众奥迪     奥迪A4L                 2016款 1.8T 自动 舒适型   \n",
      "\n",
      "                    desc     problem    datetime status  \n",
      "0     吉利嘉际4S店未返还购车时的旅游基金       L313,  2021-03-05   信息审核  \n",
      "1       斯柯达速派变速箱故障灯亮挂挡不走   B96,B334,  2021-03-05   信息审核  \n",
      "2   吉利缤越变速箱升挡时方向盘有抖动现象\\t        D80,  2021-03-05   信息审核  \n",
      "3     一汽大众迈腾变速箱挂挡有异响要求处理        B33,  2021-03-05   信息审核  \n",
      "4     东风悦达起亚智跑天窗开关故障影响使用       H192,  2021-03-05   信息审核  \n",
      "..                   ...         ...         ...    ...  \n",
      "25   星途TXL 4S店未按要求贴膜要求处理  J303,J299,  2021-03-01   信息审核  \n",
      "26     长安福特锐界启停和雷达功能频繁失灵  H263,H289,  2021-03-01   处理反馈  \n",
      "27     广汽丰田雷凌碰撞事故安全气囊未弹开       H103,  2021-03-01   处理反馈  \n",
      "28     东风日产逍客变速箱P17F1故障码        B96,  2021-03-01   用户评分  \n",
      "29   一汽大众奥迪A4L车辆发生自燃要求解决        H40,  2021-03-01   信息审核  \n",
      "\n",
      "[600 rows x 8 columns]\n"
     ]
    }
   ],
   "source": [
    "import requests\n",
    "import pandas as pd\n",
    "from bs4 import BeautifulSoup\n",
    "\n",
    "def get_page_content(request_url): \n",
    "    # 得到页面的内容\n",
    "    headers={'user-agent': 'Mozilla/5.0 (Windows NT 10.0; WOW64) AppleWebKit/537.36 (KHTML, like Gecko) Chrome/74.0.3729.131 Safari/537.36'}\n",
    "    html=requests.get(request_url, headers=headers, timeout=10)\n",
    "    content = html.text\n",
    "    # 通过content创建BeautifulSoup对象\n",
    "    soup = BeautifulSoup(content, 'html.parser', from_encoding='utf-8')\n",
    "    return soup\n",
    "\n",
    "# 分析当前页面的投诉信息\n",
    "def analysis(soup):\n",
    "    df = pd.DataFrame(columns = ['id', 'brand', 'car_model', 'type', 'desc', 'problem', 'datetime', 'status'])\n",
    "    # 找到完整的投诉信息框\n",
    "    temp = soup.find('div',class_='tslb_b')\n",
    "    # 找出所有的tr，即行\n",
    "    tr_list = temp.find_all('tr')\n",
    "    for tr in tr_list:\n",
    "        td_list = tr.find_all('td')\n",
    "        # 如果没有td，就是表头th\n",
    "        if len(td_list) > 0:\n",
    "            # 投诉编号，投诉品牌，投诉车系，投诉车型，问题简述，典型问题，投诉时间，投诉状态\n",
    "            id, brand, car_model, type, desc, problem, datetime, status = \\\n",
    "                td_list[0].text, td_list[1].text, td_list[2].text, td_list[3].text, \\\n",
    "                td_list[4].text, td_list[5].text, td_list[6].text, td_list[7].text\n",
    "            print(id, brand, car_model, type, desc, problem, datetime, status)\n",
    "            temp = {}\n",
    "            temp['id'] = id\n",
    "            temp['brand'] = brand\n",
    "            temp['car_model'] = car_model\n",
    "            temp['type'] = type\n",
    "            temp['desc'] = desc\n",
    "            temp['problem'] = problem\n",
    "            temp['datetime'] = datetime\n",
    "            temp['status'] = status\n",
    "            df = df.append(temp, ignore_index = True)\n",
    "    return df\n",
    "            \n",
    "result = pd.DataFrame(columns = ['id', 'brand', 'car_model', 'type', 'desc', 'problem', 'datetime', 'status'])\n",
    "\n",
    "# 请求URL\n",
    "base_url = 'http://www.12365auto.com/zlts/0-0-0-0-0-0_0-0-0-0-0-0-0-' #1.shtml\n",
    "page_num = 20\n",
    "for i in range(page_num):\n",
    "    # 拼接当前的页面URL\n",
    "    request_url = base_url + str(i+1) + '.shtml'\n",
    "    # 得到soup解析\n",
    "    soup = get_page_content(request_url)\n",
    "    # 通过soup解析，得到当前页面的dataframe\n",
    "    df = analysis(soup)\n",
    "    result = result.append(df)\n",
    "    \n",
    "print(result)\n",
    "result.to_csv('car_complain.csv', index = False)\n",
    "result.to_excel('car_complain.xlsx', index = False)\n"
   ]
  },
  {
   "cell_type": "code",
   "execution_count": null,
   "metadata": {},
   "outputs": [],
   "source": []
  }
 ],
 "metadata": {
  "kernelspec": {
   "display_name": "Python 3",
   "language": "python",
   "name": "python3"
  },
  "language_info": {
   "codemirror_mode": {
    "name": "ipython",
    "version": 3
   },
   "file_extension": ".py",
   "mimetype": "text/x-python",
   "name": "python",
   "nbconvert_exporter": "python",
   "pygments_lexer": "ipython3",
   "version": "3.7.6"
  }
 },
 "nbformat": 4,
 "nbformat_minor": 4
}
