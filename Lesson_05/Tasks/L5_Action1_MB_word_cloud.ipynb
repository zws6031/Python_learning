{
 "cells": [
  {
   "cell_type": "code",
   "execution_count": 22,
   "metadata": {
    "scrolled": true
   },
   "outputs": [
    {
     "name": "stdout",
     "output_type": "stream",
     "text": [
      "[('mineral water', 1788), ('eggs', 1348), ('spaghetti', 1306), ('french fries', 1282), ('chocolate', 1230), ('green tea', 991), ('milk', 972), ('ground beef', 737), ('frozen vegetables', 715), ('pancakes', 713)]\n"
     ]
    }
   ],
   "source": [
    "import pandas as pd\n",
    "from wordcloud import WordCloud\n",
    "from nltk.tokenize import word_tokenize\n",
    "\n",
    "# 数据加载\n",
    "data = pd.read_csv('./Market_Basket_Optimisation.csv', header = None)\n",
    "# print(data.shape)\n",
    "# print(data)\n",
    "\n",
    "# 将商品数据存放到 transactions中\n",
    "transactions = []\n",
    "# 商品计数，存储字典数据 key:value\n",
    "item_count = {}\n",
    "for i in range(data.shape[0]):\n",
    "    temp = [] \n",
    "    for j in range(data.shape[1]):\n",
    "        item = str(data.values[i,j])\n",
    "        if item != 'nan':\n",
    "            temp.append(item) # 存储一行订单数据\n",
    "            if item not in item_count:\n",
    "                item_count[item] = 1\n",
    "            else:\n",
    "                item_count[item] += 1\n",
    "    transactions.append(temp)\n",
    "\n",
    "# print(transactions)\n",
    "# print(item_count)\n",
    "\n",
    "# 去掉停用词，即比较经常使用的词（虚词，你好，我的）\n",
    "def remove_stop_words(f):\n",
    "    # 自定义停用词\n",
    "    stop_words = ['mineral water', 'eggs', 'green tea']\n",
    "    for stop_word in stop_words:\n",
    "        f = f.replace(stop_word, '')\n",
    "    return f\n",
    "\n",
    "# 词云生成函数\n",
    "def create_word_cloud(f):\n",
    "    f = remove_stop_words(f)\n",
    "    cut_text = word_tokenize(f)\n",
    "    cut_text = \" \".join(cut_text)\n",
    "    wc = WordCloud(\n",
    "                    max_words=100,\n",
    "                    width=2000,\n",
    "                    height=1200,\n",
    "                    )\n",
    "    wordcloud = wc.generate(cut_text)\n",
    "    wordcloud.to_file(\"wordcloud.jpg\")\n",
    "\n",
    "# 用空格连接订单数据\n",
    "all_word = ' '.join('%s' %item for item in transactions)\n",
    "# print(all_word)\n",
    "\n",
    "# 生成词云\n",
    "create_word_cloud(all_word)\n",
    "\n",
    "# 按字典的value排序\n",
    "item_count_sorted = sorted(item_count.items(),  key = lambda x:x[1], reverse = True)\n",
    "# Top10的商品有哪些\n",
    "print(item_count_sorted[:10])\n"
   ]
  },
  {
   "cell_type": "code",
   "execution_count": null,
   "metadata": {},
   "outputs": [],
   "source": []
  }
 ],
 "metadata": {
  "kernelspec": {
   "display_name": "Python 3",
   "language": "python",
   "name": "python3"
  },
  "language_info": {
   "codemirror_mode": {
    "name": "ipython",
    "version": 3
   },
   "file_extension": ".py",
   "mimetype": "text/x-python",
   "name": "python",
   "nbconvert_exporter": "python",
   "pygments_lexer": "ipython3",
   "version": "3.7.6"
  }
 },
 "nbformat": 4,
 "nbformat_minor": 4
}
