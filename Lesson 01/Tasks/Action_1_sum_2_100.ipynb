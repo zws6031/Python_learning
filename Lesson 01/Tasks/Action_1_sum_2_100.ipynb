{
 "cells": [
  {
   "cell_type": "code",
   "execution_count": null,
   "metadata": {},
   "outputs": [],
   "source": [
    "# 求2+4+6+...+100的和\n",
    "\n",
    "def sum(n1,n2):   \n",
    "    a = n1\n",
    "    b = n1    \n",
    "    while b < n2:\n",
    "        b = b + 2\n",
    "        a = a + b   \n",
    "    return a\n",
    "\n",
    "c = sum(2,100)\n",
    "c\n",
    "\n",
    "\n",
    "# c = sum(2,6)\n",
    "# print(c)\n",
    "# c = sum(2,8)\n",
    "# print(c)\n",
    "# c = sum(2,10)\n",
    "# print(c)\n",
    "        \n",
    "    "
   ]
  },
  {
   "cell_type": "code",
   "execution_count": null,
   "metadata": {},
   "outputs": [],
   "source": []
  },
  {
   "cell_type": "code",
   "execution_count": null,
   "metadata": {},
   "outputs": [],
   "source": []
  }
 ],
 "metadata": {
  "kernelspec": {
   "display_name": "Python 3",
   "language": "python",
   "name": "python3"
  },
  "language_info": {
   "codemirror_mode": {
    "name": "ipython",
    "version": 3
   },
   "file_extension": ".py",
   "mimetype": "text/x-python",
   "name": "python",
   "nbconvert_exporter": "python",
   "pygments_lexer": "ipython3",
   "version": "3.7.6"
  }
 },
 "nbformat": 4,
 "nbformat_minor": 4
}
