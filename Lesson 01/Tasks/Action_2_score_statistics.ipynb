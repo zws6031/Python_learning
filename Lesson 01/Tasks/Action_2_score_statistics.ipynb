{
 "cells": [
  {
   "cell_type": "code",
   "execution_count": 67,
   "metadata": {},
   "outputs": [
    {
     "name": "stdout",
     "output_type": "stream",
     "text": [
      "[b'ZhangFei' b'GuanYu' b'Liubei' b'DianWei' b'XuZhu']\n",
      "[68 95 98 90 80]\n",
      "[65 76 86 88 90]\n",
      "[30 98 88 77 90]\n",
      "68\n",
      "65\n",
      "30\n",
      "98\n",
      "90\n",
      "98\n",
      "120.16\n",
      "87.2\n",
      "587.8399999999999\n",
      "10.961751684835777\n",
      "9.338094023943002\n",
      "24.24541193710678\n",
      "[163 269 272 255 260]\n",
      "[[b'ZhangFei' b'GuanYu' b'Liubei' b'DianWei' b'XuZhu']\n",
      " [b'163' b'269' b'272' b'255' b'260']]\n",
      "[[b'Liubei' b'GuanYu' b'XuZhu' b'DianWei' b'ZhangFei']\n",
      " [b'272' b'269' b'260' b'255' b'163']]\n"
     ]
    }
   ],
   "source": [
    "import numpy as np\n",
    "\n",
    "persontype = np.dtype({'names':['name', 'chinese', 'math', 'english'],\n",
    "                        'formats':['S32', 'i', 'i', 'i']})\n",
    "peoples = np.array([(\"ZhangFei\",68,65,30),(\"GuanYu\",95,76,98), (\"Liubei\",98,86,88), \n",
    "                        (\"DianWei\",90,88,77),(\"XuZhu\",80,90,90)], dtype=persontype)\n",
    "names = peoples['name']\n",
    "chineses = peoples['chinese']\n",
    "maths = peoples['math']\n",
    "englishs = peoples['english']\n",
    "\n",
    "print(names)\n",
    "print(chineses)\n",
    "print(maths)\n",
    "print(englishs)\n",
    "\n",
    "# 统计数据\n",
    "print(np.min(chineses))\n",
    "print(np.min(maths))\n",
    "print(np.min(englishs))\n",
    "\n",
    "print(np.max(chineses))\n",
    "print(np.max(maths))\n",
    "print(np.max(englishs))\n",
    "\n",
    "print(np.var(chineses))\n",
    "print(np.var(maths))\n",
    "print(np.var(englishs))\n",
    "\n",
    "print(np.std(chineses))\n",
    "print(np.std(maths))\n",
    "print(np.std(englishs))\n",
    "\n",
    "# 个人成绩求和\n",
    "score_sum = np.add(chineses, maths)\n",
    "score_sum = np.add(score_sum,englishs)\n",
    "print(score_sum)\n",
    "\n",
    "# 建立个人成绩数组\n",
    "score_data = np.array([names,score_sum]) \n",
    "print(score_data)\n",
    "\n",
    "# 按照成绩由大到小排序\n",
    "score_data_sort = score_data[:,score_data[1].argsort()[::-1]]\n",
    "print(score_data_sort)\n"
   ]
  },
  {
   "cell_type": "code",
   "execution_count": null,
   "metadata": {},
   "outputs": [],
   "source": []
  },
  {
   "cell_type": "code",
   "execution_count": null,
   "metadata": {},
   "outputs": [],
   "source": []
  }
 ],
 "metadata": {
  "kernelspec": {
   "display_name": "Python 3",
   "language": "python",
   "name": "python3"
  },
  "language_info": {
   "codemirror_mode": {
    "name": "ipython",
    "version": 3
   },
   "file_extension": ".py",
   "mimetype": "text/x-python",
   "name": "python",
   "nbconvert_exporter": "python",
   "pygments_lexer": "ipython3",
   "version": "3.7.6"
  }
 },
 "nbformat": 4,
 "nbformat_minor": 4
}
